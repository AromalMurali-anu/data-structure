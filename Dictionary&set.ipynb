{
 "cells": [
  {
   "cell_type": "code",
   "execution_count": 1,
   "id": "34483312-8d2a-462c-af84-fc34535e6633",
   "metadata": {},
   "outputs": [],
   "source": [
    "#creatin a blank dictionary\n",
    "d1={ }"
   ]
  },
  {
   "cell_type": "code",
   "execution_count": 3,
   "id": "39dc50c7-27e2-4b1f-b85d-d70106e30d0e",
   "metadata": {},
   "outputs": [
    {
     "name": "stdout",
     "output_type": "stream",
     "text": [
      "<class 'dict'>\n"
     ]
    }
   ],
   "source": [
    "print(type(d1))"
   ]
  },
  {
   "cell_type": "code",
   "execution_count": 5,
   "id": "48b33f4f-eb78-4cd9-bd35-405aba1c0f42",
   "metadata": {},
   "outputs": [],
   "source": [
    "#creating a dicitonary\n",
    "d2={'name':'anu','age':17,'city':'kollam'}"
   ]
  },
  {
   "cell_type": "code",
   "execution_count": 6,
   "id": "88589d89-b6f9-44bd-bae8-b8b1f227ecfb",
   "metadata": {},
   "outputs": [
    {
     "data": {
      "text/plain": [
       "{'name': 'anu', 'age': 17, 'city': 'kollam'}"
      ]
     },
     "execution_count": 6,
     "metadata": {},
     "output_type": "execute_result"
    }
   ],
   "source": [
    "d2"
   ]
  },
  {
   "cell_type": "code",
   "execution_count": 7,
   "id": "834c57ce-c202-4997-97ad-7ce0814838c5",
   "metadata": {},
   "outputs": [
    {
     "name": "stdout",
     "output_type": "stream",
     "text": [
      "<class 'dict'>\n"
     ]
    }
   ],
   "source": [
    "print(type(d2))"
   ]
  },
  {
   "cell_type": "code",
   "execution_count": 1,
   "id": "4bf30b44-ff91-4040-9a28-6ff8430302d7",
   "metadata": {},
   "outputs": [
    {
     "data": {
      "text/plain": [
       "{'name': 'anu', 'age': 17, 'city': 'kollam', 'phone': '8975939283'}"
      ]
     },
     "execution_count": 1,
     "metadata": {},
     "output_type": "execute_result"
    }
   ],
   "source": [
    "#adding phone number to the dictionary\n",
    "person={'name':'anu','age':17,'city':'kollam','phone':'8975939283'}\n",
    "person"
   ]
  },
  {
   "cell_type": "code",
   "execution_count": 2,
   "id": "d5444695-9661-4a0a-acf9-f7cf7569700f",
   "metadata": {},
   "outputs": [
    {
     "name": "stdout",
     "output_type": "stream",
     "text": [
      "<class 'dict'>\n"
     ]
    }
   ],
   "source": [
    "print(type(person))"
   ]
  },
  {
   "cell_type": "code",
   "execution_count": 5,
   "id": "d43ffe40-d0b1-424d-9b2d-600b3ca3b43a",
   "metadata": {},
   "outputs": [],
   "source": [
    "#added a new key value\n",
    "person['salary']=450000.0"
   ]
  },
  {
   "cell_type": "code",
   "execution_count": 6,
   "id": "e9737a2c-91af-4e79-b36e-0bb041d16ac6",
   "metadata": {},
   "outputs": [
    {
     "data": {
      "text/plain": [
       "{'name': 'anu',\n",
       " 'age': 17,\n",
       " 'city': 'kollam',\n",
       " 'phone': '8975939283',\n",
       " 'salary': 450000.0}"
      ]
     },
     "execution_count": 6,
     "metadata": {},
     "output_type": "execute_result"
    }
   ],
   "source": [
    "person"
   ]
  },
  {
   "cell_type": "code",
   "execution_count": 7,
   "id": "5b85e617-4fe3-4639-9775-e3771f6feaeb",
   "metadata": {},
   "outputs": [],
   "source": [
    "person['name']='anamika'"
   ]
  },
  {
   "cell_type": "code",
   "execution_count": 8,
   "id": "887b3747-11f6-443c-a360-69047a4a96cc",
   "metadata": {},
   "outputs": [
    {
     "data": {
      "text/plain": [
       "{'name': 'anamika',\n",
       " 'age': 17,\n",
       " 'city': 'kollam',\n",
       " 'phone': '8975939283',\n",
       " 'salary': 450000.0}"
      ]
     },
     "execution_count": 8,
     "metadata": {},
     "output_type": "execute_result"
    }
   ],
   "source": [
    "person"
   ]
  },
  {
   "cell_type": "code",
   "execution_count": 9,
   "id": "0cfdd96a-e9ee-4311-a43d-e42fd22344d8",
   "metadata": {},
   "outputs": [
    {
     "data": {
      "text/plain": [
       "{'name': 'anamika',\n",
       " 'age': 17,\n",
       " 'city': 'kollam',\n",
       " 'phone': '8975939283',\n",
       " 'salary': 450000.0,\n",
       " 'Name': 'amalu'}"
      ]
     },
     "execution_count": 9,
     "metadata": {},
     "output_type": "execute_result"
    }
   ],
   "source": [
    "#adding a new key value\n",
    "person['Name']='amalu'\n",
    "person"
   ]
  },
  {
   "cell_type": "code",
   "execution_count": 10,
   "id": "83780dc0-83bc-4451-9340-685d2ef438a1",
   "metadata": {},
   "outputs": [],
   "source": [
    "#deleting a key from dictionary\n",
    "del person['Name']"
   ]
  },
  {
   "cell_type": "code",
   "execution_count": 11,
   "id": "590d69b5-5414-4818-b6ed-7d2a2ac8ebfa",
   "metadata": {},
   "outputs": [
    {
     "data": {
      "text/plain": [
       "{'name': 'anamika',\n",
       " 'age': 17,\n",
       " 'city': 'kollam',\n",
       " 'phone': '8975939283',\n",
       " 'salary': 450000.0}"
      ]
     },
     "execution_count": 11,
     "metadata": {},
     "output_type": "execute_result"
    }
   ],
   "source": [
    "person"
   ]
  },
  {
   "cell_type": "code",
   "execution_count": 12,
   "id": "45c9302d-38a4-4b77-ae5f-ec9d52d6090c",
   "metadata": {},
   "outputs": [
    {
     "data": {
      "text/plain": [
       "'anamika'"
      ]
     },
     "execution_count": 12,
     "metadata": {},
     "output_type": "execute_result"
    }
   ],
   "source": [
    "#acessing a key value\n",
    "person['name']"
   ]
  },
  {
   "cell_type": "code",
   "execution_count": 13,
   "id": "f15ca0d5-5cdb-428b-ae5b-18b8b44c5bf2",
   "metadata": {},
   "outputs": [
    {
     "data": {
      "text/plain": [
       "5"
      ]
     },
     "execution_count": 13,
     "metadata": {},
     "output_type": "execute_result"
    }
   ],
   "source": [
    "#lenth of the dictionary\n",
    "len(person)"
   ]
  },
  {
   "cell_type": "code",
   "execution_count": 15,
   "id": "c0e43caa-7927-4a2a-8fc6-cf0750ad3998",
   "metadata": {},
   "outputs": [
    {
     "data": {
      "text/plain": [
       "dict_keys(['name', 'age', 'city', 'phone', 'salary'])"
      ]
     },
     "execution_count": 15,
     "metadata": {},
     "output_type": "execute_result"
    }
   ],
   "source": [
    "#acessing keys\n",
    "person.keys()"
   ]
  },
  {
   "cell_type": "code",
   "execution_count": 16,
   "id": "e3278f02-7890-4431-8f06-bd750d898e58",
   "metadata": {},
   "outputs": [
    {
     "data": {
      "text/plain": [
       "dict_values(['anamika', 17, 'kollam', '8975939283', 450000.0])"
      ]
     },
     "execution_count": 16,
     "metadata": {},
     "output_type": "execute_result"
    }
   ],
   "source": [
    "#acessing the values\n",
    "person.values()"
   ]
  },
  {
   "cell_type": "code",
   "execution_count": 17,
   "id": "010792a8-1237-40d4-8c8e-0d922f1ab146",
   "metadata": {},
   "outputs": [
    {
     "data": {
      "text/plain": [
       "dict_items([('name', 'anamika'), ('age', 17), ('city', 'kollam'), ('phone', '8975939283'), ('salary', 450000.0)])"
      ]
     },
     "execution_count": 17,
     "metadata": {},
     "output_type": "execute_result"
    }
   ],
   "source": [
    "person.items()"
   ]
  },
  {
   "cell_type": "raw",
   "id": "a6a9ec9c-b0ae-43c4-8ce7-4730f1fea55e",
   "metadata": {},
   "source": [
    "SET"
   ]
  },
  {
   "cell_type": "code",
   "execution_count": 18,
   "id": "9f2ba048-65a7-4643-811e-a003b32d8829",
   "metadata": {},
   "outputs": [],
   "source": [
    "#no duplicats\n",
    "s1={1,2,3,2,5,1,4,6}"
   ]
  },
  {
   "cell_type": "code",
   "execution_count": 19,
   "id": "22f8dbc4-429e-4515-be81-b25e371d84c9",
   "metadata": {},
   "outputs": [
    {
     "data": {
      "text/plain": [
       "{1, 2, 3, 4, 5, 6}"
      ]
     },
     "execution_count": 19,
     "metadata": {},
     "output_type": "execute_result"
    }
   ],
   "source": [
    "s1"
   ]
  },
  {
   "cell_type": "code",
   "execution_count": 20,
   "id": "1e548c3d-da79-496e-a8c9-9c0b58e82a86",
   "metadata": {},
   "outputs": [
    {
     "data": {
      "text/plain": [
       "{1, 2, 3, 4, 5, 6, 7, 8}"
      ]
     },
     "execution_count": 20,
     "metadata": {},
     "output_type": "execute_result"
    }
   ],
   "source": [
    "#creating set different way\n",
    "s2=set([1,2,3,2,4,5,4,6,7,2,8,1])\n",
    "s2"
   ]
  },
  {
   "cell_type": "code",
   "execution_count": 21,
   "id": "d8b1dec1-3d85-4332-9352-81f29ce2b22f",
   "metadata": {},
   "outputs": [],
   "source": [
    "#adding new value to the  set\n",
    "s1.add(9)"
   ]
  },
  {
   "cell_type": "code",
   "execution_count": 22,
   "id": "a6ef2618-95ba-4a38-84ad-6b9428a59ba4",
   "metadata": {},
   "outputs": [
    {
     "data": {
      "text/plain": [
       "{1, 2, 3, 4, 5, 6, 9}"
      ]
     },
     "execution_count": 22,
     "metadata": {},
     "output_type": "execute_result"
    }
   ],
   "source": [
    "s1"
   ]
  },
  {
   "cell_type": "code",
   "execution_count": 23,
   "id": "cdd447b4-8bdf-4453-8c86-346770e5d5e8",
   "metadata": {},
   "outputs": [
    {
     "data": {
      "text/plain": [
       "{1, 3, 4, 5, 6, 9}"
      ]
     },
     "execution_count": 23,
     "metadata": {},
     "output_type": "execute_result"
    }
   ],
   "source": [
    "#removing a value frome set\n",
    "s1.remove(2)\n",
    "s1"
   ]
  },
  {
   "cell_type": "code",
   "execution_count": 25,
   "id": "09613e40-581f-4ab3-9015-d13bc53b9ca2",
   "metadata": {},
   "outputs": [],
   "source": [
    "#clearing a set complety\n",
    "s1.clear()"
   ]
  },
  {
   "cell_type": "code",
   "execution_count": 26,
   "id": "f169b5f3-3a11-4f58-a457-234457968c26",
   "metadata": {},
   "outputs": [
    {
     "data": {
      "text/plain": [
       "set()"
      ]
     },
     "execution_count": 26,
     "metadata": {},
     "output_type": "execute_result"
    }
   ],
   "source": [
    "s1"
   ]
  },
  {
   "cell_type": "code",
   "execution_count": 27,
   "id": "63e0c9f3-cf5c-4468-bf4b-4413a85b5821",
   "metadata": {},
   "outputs": [
    {
     "data": {
      "text/plain": [
       "8"
      ]
     },
     "execution_count": 27,
     "metadata": {},
     "output_type": "execute_result"
    }
   ],
   "source": [
    "#lenth of set\n",
    "len(s2)"
   ]
  },
  {
   "cell_type": "code",
   "execution_count": 32,
   "id": "e517166f-0126-4454-bc79-eb4bc94ef7a7",
   "metadata": {},
   "outputs": [
    {
     "data": {
      "text/plain": [
       "{1, 2, 3, 4, 5, 10, 28, 30, 55, 60, 78}"
      ]
     },
     "execution_count": 32,
     "metadata": {},
     "output_type": "execute_result"
    }
   ],
   "source": [
    "s3={28,30,10,55,60,78,10,1,3,4,2,5,1}\n",
    "s3"
   ]
  },
  {
   "cell_type": "code",
   "execution_count": 34,
   "id": "8c65e319-ef8d-4b3e-8103-05564bc40c55",
   "metadata": {},
   "outputs": [
    {
     "data": {
      "text/plain": [
       "{1, 2, 3, 4, 5, 6, 7, 8}"
      ]
     },
     "execution_count": 34,
     "metadata": {},
     "output_type": "execute_result"
    }
   ],
   "source": [
    "s2"
   ]
  },
  {
   "cell_type": "code",
   "execution_count": 35,
   "id": "565ef4bf-99c7-4823-98fa-459709fdf7f9",
   "metadata": {},
   "outputs": [
    {
     "data": {
      "text/plain": [
       "{1, 2, 3, 4, 5, 6, 7, 8, 10, 28, 30, 55, 60, 78}"
      ]
     },
     "execution_count": 35,
     "metadata": {},
     "output_type": "execute_result"
    }
   ],
   "source": [
    "#all elements in one(union)\n",
    "s4=s2|s3\n",
    "s4"
   ]
  },
  {
   "cell_type": "code",
   "execution_count": 36,
   "id": "ebe706d1-6a7f-4da9-92fd-451f5d9cc4a4",
   "metadata": {},
   "outputs": [
    {
     "data": {
      "text/plain": [
       "{1, 2, 3, 4, 5}"
      ]
     },
     "execution_count": 36,
     "metadata": {},
     "output_type": "execute_result"
    }
   ],
   "source": [
    "#common values in a set\n",
    "s5=s2&s3\n",
    "s5"
   ]
  },
  {
   "cell_type": "code",
   "execution_count": 37,
   "id": "d733135b-a417-4ae3-9497-79b77c601ae3",
   "metadata": {},
   "outputs": [
    {
     "data": {
      "text/plain": [
       "{6, 7, 8}"
      ]
     },
     "execution_count": 37,
     "metadata": {},
     "output_type": "execute_result"
    }
   ],
   "source": [
    "#difference between sets\n",
    "s6=s2-s3\n",
    "s6"
   ]
  },
  {
   "cell_type": "code",
   "execution_count": 38,
   "id": "529ae060-f5cc-4968-ad15-f449adef3268",
   "metadata": {},
   "outputs": [
    {
     "data": {
      "text/plain": [
       "{10, 28, 30, 55, 60, 78}"
      ]
     },
     "execution_count": 38,
     "metadata": {},
     "output_type": "execute_result"
    }
   ],
   "source": [
    "s7=s3-s2\n",
    "s7"
   ]
  },
  {
   "cell_type": "code",
   "execution_count": null,
   "id": "36daeed2-dd05-4982-8289-f32f66b8f2de",
   "metadata": {},
   "outputs": [],
   "source": []
  }
 ],
 "metadata": {
  "kernelspec": {
   "display_name": "Python [conda env:base] *",
   "language": "python",
   "name": "conda-base-py"
  },
  "language_info": {
   "codemirror_mode": {
    "name": "ipython",
    "version": 3
   },
   "file_extension": ".py",
   "mimetype": "text/x-python",
   "name": "python",
   "nbconvert_exporter": "python",
   "pygments_lexer": "ipython3",
   "version": "3.13.5"
  }
 },
 "nbformat": 4,
 "nbformat_minor": 5
}
