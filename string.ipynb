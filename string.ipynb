{
 "cells": [
  {
   "cell_type": "code",
   "execution_count": 29,
   "id": "167f45ae-a80b-44c6-b268-5871957d5c7c",
   "metadata": {},
   "outputs": [
    {
     "data": {
      "text/plain": [
       "'hello'"
      ]
     },
     "execution_count": 29,
     "metadata": {},
     "output_type": "execute_result"
    }
   ],
   "source": [
    "#creating a string with singel (')\n",
    "s1='hello'\n",
    "s1"
   ]
  },
  {
   "cell_type": "code",
   "execution_count": 5,
   "id": "643513e8-a7cc-410b-91e8-0b1dba219644",
   "metadata": {},
   "outputs": [
    {
     "name": "stdout",
     "output_type": "stream",
     "text": [
      "<class 'str'>\n"
     ]
    }
   ],
   "source": [
    "print(type(s1))"
   ]
  },
  {
   "cell_type": "code",
   "execution_count": 6,
   "id": "15a9006c-eb26-4d7f-9d45-ab58b01d4533",
   "metadata": {},
   "outputs": [
    {
     "data": {
      "text/plain": [
       "'world'"
      ]
     },
     "execution_count": 6,
     "metadata": {},
     "output_type": "execute_result"
    }
   ],
   "source": [
    "#creatiing a string with(\")\n",
    "s2=\"world\"\n",
    "s2"
   ]
  },
  {
   "cell_type": "code",
   "execution_count": 7,
   "id": "664e2ee7-70e8-4dea-b1ae-bc4f0ecb67b5",
   "metadata": {},
   "outputs": [
    {
     "name": "stdout",
     "output_type": "stream",
     "text": [
      "<class 'str'>\n"
     ]
    }
   ],
   "source": [
    "print(type(s2))"
   ]
  },
  {
   "cell_type": "code",
   "execution_count": 8,
   "id": "6951b5b0-c628-43ad-ab3b-d3990db4712e",
   "metadata": {},
   "outputs": [
    {
     "data": {
      "text/plain": [
       "'python is a \\na programing languane'"
      ]
     },
     "execution_count": 8,
     "metadata": {},
     "output_type": "execute_result"
    }
   ],
   "source": [
    "#creating a string with multiple(''')\n",
    "s3='''python is a \n",
    "a programing languane'''\n",
    "s3\n"
   ]
  },
  {
   "cell_type": "code",
   "execution_count": 9,
   "id": "72ea56c8-63c5-42e0-a603-6feede708c5c",
   "metadata": {},
   "outputs": [
    {
     "name": "stdout",
     "output_type": "stream",
     "text": [
      "<class 'str'>\n"
     ]
    },
    {
     "data": {
      "text/plain": [
       "'python is a \\na programing languane'"
      ]
     },
     "execution_count": 9,
     "metadata": {},
     "output_type": "execute_result"
    }
   ],
   "source": [
    "print(type(s3))\n",
    "s3"
   ]
  },
  {
   "cell_type": "code",
   "execution_count": 10,
   "id": "953d03c4-5728-4666-a4d6-c98e4b34c0b6",
   "metadata": {},
   "outputs": [
    {
     "data": {
      "text/plain": [
       "'holleworld'"
      ]
     },
     "execution_count": 10,
     "metadata": {},
     "output_type": "execute_result"
    }
   ],
   "source": [
    "#concatnating\n",
    "s4=s1+s2\n",
    "s4"
   ]
  },
  {
   "cell_type": "code",
   "execution_count": 30,
   "id": "806a808c-a6b9-4ead-9824-298c2a9fcaf0",
   "metadata": {},
   "outputs": [
    {
     "data": {
      "text/plain": [
       "'hello world'"
      ]
     },
     "execution_count": 30,
     "metadata": {},
     "output_type": "execute_result"
    }
   ],
   "source": [
    "#adding space between string's\n",
    "s5=s1+\" \"+s2\n",
    "s5"
   ]
  },
  {
   "cell_type": "code",
   "execution_count": 12,
   "id": "2aa44565-1b57-48c8-96e9-c0d2758a9c76",
   "metadata": {},
   "outputs": [
    {
     "data": {
      "text/plain": [
       "11"
      ]
     },
     "execution_count": 12,
     "metadata": {},
     "output_type": "execute_result"
    }
   ],
   "source": [
    "len(s5)"
   ]
  },
  {
   "cell_type": "code",
   "execution_count": 13,
   "id": "68c5b9fc-c857-4809-a285-907d7b3031b8",
   "metadata": {},
   "outputs": [
    {
     "data": {
      "text/plain": [
       "'h'"
      ]
     },
     "execution_count": 13,
     "metadata": {},
     "output_type": "execute_result"
    }
   ],
   "source": [
    "#acessing a chater\n",
    "s5[0]"
   ]
  },
  {
   "cell_type": "code",
   "execution_count": 14,
   "id": "3c41549e-2493-4963-adc3-5a11ad8d5372",
   "metadata": {},
   "outputs": [
    {
     "data": {
      "text/plain": [
       "'d'"
      ]
     },
     "execution_count": 14,
     "metadata": {},
     "output_type": "execute_result"
    }
   ],
   "source": [
    "s5[10]"
   ]
  },
  {
   "cell_type": "code",
   "execution_count": 31,
   "id": "9710273f-b7a8-4ff6-a407-327ee937d556",
   "metadata": {},
   "outputs": [
    {
     "data": {
      "text/plain": [
       "'llo wo'"
      ]
     },
     "execution_count": 31,
     "metadata": {},
     "output_type": "execute_result"
    }
   ],
   "source": [
    "#sliceing a string\n",
    "s5[2:8]"
   ]
  },
  {
   "cell_type": "code",
   "execution_count": 32,
   "id": "629a9be3-a932-4870-9fe1-9e42711c5326",
   "metadata": {},
   "outputs": [
    {
     "data": {
      "text/plain": [
       "'hello worldhello worldhello world'"
      ]
     },
     "execution_count": 32,
     "metadata": {},
     "output_type": "execute_result"
    }
   ],
   "source": [
    "#printing a string in multiple times\n",
    "s5*3"
   ]
  },
  {
   "cell_type": "code",
   "execution_count": 19,
   "id": "6fc217b4-3bea-49bf-b1cf-38b840119b09",
   "metadata": {},
   "outputs": [
    {
     "data": {
      "text/plain": [
       "True"
      ]
     },
     "execution_count": 19,
     "metadata": {},
     "output_type": "execute_result"
    }
   ],
   "source": [
    "#chekeing substrig's\n",
    "'world' in s5"
   ]
  },
  {
   "cell_type": "code",
   "execution_count": 20,
   "id": "b54e23a1-cb2a-4575-adb9-b02bba5417cb",
   "metadata": {},
   "outputs": [
    {
     "data": {
      "text/plain": [
       "False"
      ]
     },
     "execution_count": 20,
     "metadata": {},
     "output_type": "execute_result"
    }
   ],
   "source": [
    "'anu' in s5"
   ]
  },
  {
   "cell_type": "code",
   "execution_count": 22,
   "id": "73143f3b-5aac-4fba-81a7-0e910558112b",
   "metadata": {},
   "outputs": [
    {
     "data": {
      "text/plain": [
       "False"
      ]
     },
     "execution_count": 22,
     "metadata": {},
     "output_type": "execute_result"
    }
   ],
   "source": [
    "'world' not in s5"
   ]
  },
  {
   "cell_type": "code",
   "execution_count": 23,
   "id": "324e6c4f-8f4f-4cee-85c6-5c2df0446ab3",
   "metadata": {},
   "outputs": [
    {
     "data": {
      "text/plain": [
       "True"
      ]
     },
     "execution_count": 23,
     "metadata": {},
     "output_type": "execute_result"
    }
   ],
   "source": [
    "'anu' not in s5"
   ]
  },
  {
   "cell_type": "code",
   "execution_count": 34,
   "id": "66671f53-c9b5-4099-a6fd-6f0d897296cc",
   "metadata": {},
   "outputs": [
    {
     "data": {
      "text/plain": [
       "'HELLO WORLD'"
      ]
     },
     "execution_count": 34,
     "metadata": {},
     "output_type": "execute_result"
    }
   ],
   "source": [
    "#changeing charter to lower and upper contions\n",
    "s5.upper()"
   ]
  },
  {
   "cell_type": "code",
   "execution_count": 33,
   "id": "1ab63607-8040-4271-9e05-fd634f04dce9",
   "metadata": {},
   "outputs": [
    {
     "data": {
      "text/plain": [
       "'hello world'"
      ]
     },
     "execution_count": 33,
     "metadata": {},
     "output_type": "execute_result"
    }
   ],
   "source": [
    "s5.lower()"
   ]
  },
  {
   "cell_type": "code",
   "execution_count": 28,
   "id": "4310494e-1b85-4e33-8e3b-29b994acd226",
   "metadata": {},
   "outputs": [
    {
     "data": {
      "text/plain": [
       "'Holle world'"
      ]
     },
     "execution_count": 28,
     "metadata": {},
     "output_type": "execute_result"
    }
   ],
   "source": [
    "s5.capitalize()"
   ]
  },
  {
   "cell_type": "code",
   "execution_count": 35,
   "id": "f160512c-9c3b-4197-8203-5cffd8961416",
   "metadata": {},
   "outputs": [
    {
     "data": {
      "text/plain": [
       "'Hello World'"
      ]
     },
     "execution_count": 35,
     "metadata": {},
     "output_type": "execute_result"
    }
   ],
   "source": [
    "s5.title()"
   ]
  },
  {
   "cell_type": "code",
   "execution_count": 37,
   "id": "8039a453-2d4a-40ad-a2c0-1d249f3c13ab",
   "metadata": {},
   "outputs": [
    {
     "data": {
      "text/plain": [
       "'hello python'"
      ]
     },
     "execution_count": 37,
     "metadata": {},
     "output_type": "execute_result"
    }
   ],
   "source": [
    "# replacing worlds\n",
    "s5.replace('world',\"python\")"
   ]
  },
  {
   "cell_type": "code",
   "execution_count": null,
   "id": "e5947ebc-7cd3-43c8-859a-b4a89e2dd62e",
   "metadata": {},
   "outputs": [],
   "source": []
  }
 ],
 "metadata": {
  "kernelspec": {
   "display_name": "Python [conda env:base] *",
   "language": "python",
   "name": "conda-base-py"
  },
  "language_info": {
   "codemirror_mode": {
    "name": "ipython",
    "version": 3
   },
   "file_extension": ".py",
   "mimetype": "text/x-python",
   "name": "python",
   "nbconvert_exporter": "python",
   "pygments_lexer": "ipython3",
   "version": "3.13.5"
  }
 },
 "nbformat": 4,
 "nbformat_minor": 5
}
